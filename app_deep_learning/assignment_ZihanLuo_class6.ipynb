{
 "cells": [
  {
   "cell_type": "markdown",
   "id": "71bf7406",
   "metadata": {
    "id": "CdL1ZvDepO-X"
   },
   "source": [
    "<a href=\"https://colab.research.google.com/github/jeffheaton/app_deep_learning/blob/main/assignments/assignment_yourname_class6.ipynb\" target=\"_parent\"><img src=\"https://colab.research.google.com/assets/colab-badge.svg\" alt=\"Open In Colab\"/></a>"
   ]
  },
  {
   "cell_type": "markdown",
   "id": "8e33c7b4",
   "metadata": {
    "id": "R_pemiL8pO-Y"
   },
   "source": [
    "# T81-558: Applications of Deep Neural Networks\n",
    "* Instructor: [Jeff Heaton](https://sites.wustl.edu/jeffheaton/), McKelvey School of Engineering, [Washington University in St. Louis](https://engineering.wustl.edu/index.html)\n",
    "* For more information visit the [class website](https://sites.wustl.edu/jeffheaton/t81-558/).\n",
    "\n",
    "**Module 6 Assignment: Extract Text with LLM**\n",
    "\n",
    "**Student Name: Your Name**"
   ]
  },
  {
   "cell_type": "markdown",
   "id": "6dacb699",
   "metadata": {
    "id": "lky4xopspO-Z"
   },
   "source": [
    "# Assignment Instructions\n",
    "\n",
    "A [file](https://s3.amazonaws.com/data.heatonresearch.com/data/t81-558/sentences.csv) is provided that contains 100 English sentences. Sample sentences from this file include:\n",
    "\n",
    "|id|sentence|\n",
    "|---|---|\n",
    "|1|Sarah found an old photograph in the attic.|\n",
    "|2|By the window, Jake noticed a sparkling diamond necklace.|\n",
    "|3|The antique clock was expertly fixed by Robert.|\n",
    "|4|At the beach, Maria stumbled upon a washed-up bottle.|\n",
    "|...|...|\n",
    "\n",
    "For each of these sentences you should extract the name of the person from the sentence. The results of this assignment would look like the following for the above input.\n",
    "\n",
    "|id|name|\n",
    "|---|---|\n",
    "|1|Sarah|\n",
    "|2|Jake|\n",
    "|3|Robert|\n",
    "|4|Maria|\n",
    "|...|...|\n",
    "\n",
    "Use a large language model (LLM) to extract the single word action from each of these sentences.\n",
    "\n"
   ]
  },
  {
   "cell_type": "markdown",
   "id": "b64acc1e",
   "metadata": {
    "id": "U4LQZW_SpO-Z"
   },
   "source": [
    "# Google CoLab Instructions\n",
    "\n",
    "If you are using Google CoLab, it will be necessary to mount your GDrive so that you can send your notebook during the submit process. Running the following code will map your GDrive to ```/content/drive```."
   ]
  },
  {
   "cell_type": "code",
   "execution_count": null,
   "id": "8ac79f98",
   "metadata": {
    "colab": {
     "base_uri": "https://localhost:8080/"
    },
    "id": "1ZnCEIEopO-Z",
    "outputId": "017669da-d657-4a7a-e33e-32c72207313b"
   },
   "outputs": [],
   "source": [
    "try:\n",
    "    from google.colab import drive\n",
    "    drive.mount('/content/drive', force_remount=True)\n",
    "    COLAB = True\n",
    "    print(\"Note: using Google CoLab\")\n",
    "except:\n",
    "    print(\"Note: not using Google CoLab\")\n",
    "    COLAB = False"
   ]
  },
  {
   "cell_type": "markdown",
   "id": "72ae0d7c",
   "metadata": {
    "id": "vwx0hsWE3CQd"
   },
   "source": [
    "# LangChain Setup\n",
    "\n",
    "We must first install LangChain, refer to Module 6.2 for more information."
   ]
  },
  {
   "cell_type": "code",
   "execution_count": null,
   "id": "047e65cc",
   "metadata": {
    "colab": {
     "base_uri": "https://localhost:8080/"
    },
    "id": "WRPrqvDn3jYh",
    "outputId": "efd490c4-26bd-481f-9e0b-604706ad3d36"
   },
   "outputs": [],
   "source": [
    "!pip install langchain langchain_openai"
   ]
  },
  {
   "cell_type": "markdown",
   "id": "32454749",
   "metadata": {
    "id": "-A83r4MU3kmk"
   },
   "source": [
    "You will need a key for this assignment, for WUSTL students, look at Assignment 6 in Canvas."
   ]
  },
  {
   "cell_type": "code",
   "execution_count": null,
   "id": "f5813585",
   "metadata": {
    "id": "OPutwNcc3mwj"
   },
   "outputs": [],
   "source": [
    "from langchain_openai import OpenAI, ChatOpenAI\n",
    "\n",
    "# Your OpenAI API key\n",
    "# If you are in my class at WUSTL, get this key from the Assignment 6 description in Canvas.\n",
    "OPENAI_KEY = '[Insert your API key]'\n",
    "\n",
    "# This is the model you will generally use for this class\n",
    "LLM_MODEL = 'gpt-3.5-turbo-instruct'\n",
    "\n",
    "# Initialize the OpenAI LLM (Language Learning Model) with your API key\n",
    "llm = OpenAI(openai_api_key=OPENAI_KEY, model=LLM_MODEL, temperature=0)"
   ]
  },
  {
   "cell_type": "markdown",
   "id": "b79b613a",
   "metadata": {
    "id": "PMLHwV0hpO-a"
   },
   "source": [
    "# Assignment Submit Function\n",
    "\n",
    "You will submit the 10 programming assignments electronically.  The following submit function can be used to do this.  My server will perform a basic check of each assignment and let you know if it sees any basic problems.\n",
    "\n",
    "**It is unlikely that should need to modify this function.**"
   ]
  },
  {
   "cell_type": "code",
   "execution_count": null,
   "id": "a6e98331",
   "metadata": {
    "id": "ozSyLCNtpO-a"
   },
   "outputs": [],
   "source": [
    "import base64\n",
    "import os\n",
    "import numpy as np\n",
    "import pandas as pd\n",
    "import requests\n",
    "import PIL\n",
    "import PIL.Image\n",
    "import io\n",
    "\n",
    "# This function submits an assignment.  You can submit an assignment as much as you like, only the final\n",
    "# submission counts.  The paramaters are as follows:\n",
    "# data - List of pandas dataframes or images.\n",
    "# key - Your student key that was emailed to you.\n",
    "# no - The assignment class number, should be 1 through 1.\n",
    "# source_file - The full path to your Python or IPYNB file.  This must have \"_class1\" as part of its name.\n",
    "# .             The number must match your assignment number.  For example \"_class2\" for class assignment #2.\n",
    "def submit(data,key,no,source_file=None):\n",
    "    if source_file is None and '__file__' not in globals(): raise Exception('Must specify a filename when a Jupyter notebook.')\n",
    "    if source_file is None: source_file = __file__\n",
    "    suffix = '_class{}'.format(no)\n",
    "    if suffix not in source_file: raise Exception('{} must be part of the filename.'.format(suffix))\n",
    "    with open(source_file, \"rb\") as image_file:\n",
    "        encoded_python = base64.b64encode(image_file.read()).decode('ascii')\n",
    "    ext = os.path.splitext(source_file)[-1].lower()\n",
    "    if ext not in ['.ipynb','.py']: raise Exception(\"Source file is {} must be .py or .ipynb\".format(ext))\n",
    "    payload = []\n",
    "    for item in data:\n",
    "        if type(item) is PIL.Image.Image:\n",
    "            buffered = BytesIO()\n",
    "            item.save(buffered, format=\"PNG\")\n",
    "            payload.append({'PNG':base64.b64encode(buffered.getvalue()).decode('ascii')})\n",
    "        elif type(item) is pd.core.frame.DataFrame:\n",
    "            payload.append({'CSV':base64.b64encode(item.to_csv(index=False).encode('ascii')).decode(\"ascii\")})\n",
    "    r= requests.post(\"https://api.heatonresearch.com/assignment-submit\",\n",
    "        headers={'x-api-key':key}, json={ 'payload': payload,'assignment': no, 'ext':ext, 'py':encoded_python})\n",
    "    if r.status_code==200:\n",
    "        print(\"Success: {}\".format(r.text))\n",
    "    else: print(\"Failure: {}\".format(r.text))"
   ]
  },
  {
   "cell_type": "markdown",
   "id": "e4cfee7f",
   "metadata": {
    "collapsed": true,
    "id": "H7kgvLHspO-a"
   },
   "source": [
    "# Assignment #6 Sample Code\n",
    "\n",
    "The following code provides a starting point for this assignment."
   ]
  },
  {
   "cell_type": "code",
   "execution_count": null,
   "id": "c0c99e61",
   "metadata": {
    "colab": {
     "base_uri": "https://localhost:8080/"
    },
    "id": "8ZPLGWgkpO-a",
    "outputId": "9eab665a-49a7-4d03-e14e-3a760ef697a6"
   },
   "outputs": [],
   "source": [
    "import os\n",
    "import pandas as pd\n",
    "from scipy.stats import zscore\n",
    "import string\n",
    "from langchain.prompts import ChatPromptTemplate\n",
    "\n",
    "\n",
    "# This is your student key that I emailed to you at the beginnning of the semester.\n",
    "key = \"uTtH5yNbPs9tZdRWsBf9V9FaQA9RU2iP5cL7F3zH\" #\"Gx5en9cEVvaZnjut6vfLm1HG4ZO4PsI32sgldAXj\"  # This is an example key and will not work.\n",
    "\n",
    "# You must also identify your source file.  (modify for your local setup)\n",
    "file='/content/drive/My Drive/Colab Notebooks/assignment_yourname_class6.ipynb'  # Google CoLab\n",
    "# file='C:\\\\Users\\\\jeffh\\\\projects\\\\t81_558_deep_learning\\\\assignments\\\\assignment_yourname_class6.ipynb'  # Windows\n",
    "# file='/Users/jheaton/projects/t81_558_deep_learning/assignments/assignment_yourname_class6.ipynb'  # Mac/Linux\n",
    "\n",
    "# Begin assignment\n",
    "\n",
    "\n",
    "# Submit\n",
    "submit(source_file=file,data=[df_submit],key=key,no=6)"
   ]
  },
  {
   "cell_type": "markdown",
   "id": "87336d53",
   "metadata": {},
   "source": [
    "# Assignment #6 MyCode\n"
   ]
  },
  {
   "cell_type": "code",
   "execution_count": null,
   "id": "7c41e858",
   "metadata": {},
   "outputs": [],
   "source": []
  },
  {
   "cell_type": "code",
   "execution_count": 37,
   "id": "45f7484b",
   "metadata": {},
   "outputs": [],
   "source": [
    "import base64\n",
    "import os\n",
    "import numpy as np\n",
    "import pandas as pd\n",
    "import requests\n",
    "import PIL\n",
    "import PIL.Image\n",
    "import io\n",
    "\n",
    "# This function submits an assignment.  You can submit an assignment as much as you like, only the final\n",
    "# submission counts.  The paramaters are as follows:\n",
    "# data - List of pandas dataframes or images.\n",
    "# key - Your student key that was emailed to you.\n",
    "# no - The assignment class number, should be 1 through 1.\n",
    "# source_file - The full path to your Python or IPYNB file.  This must have \"_class1\" as part of its name.\n",
    "# .             The number must match your assignment number.  For example \"_class2\" for class assignment #2.\n",
    "def submit(data,key,no,source_file=None):\n",
    "    if source_file is None and '__file__' not in globals(): raise Exception('Must specify a filename when a Jupyter notebook.')\n",
    "    if source_file is None: source_file = __file__\n",
    "    suffix = '_class{}'.format(no)\n",
    "    if suffix not in source_file: raise Exception('{} must be part of the filename.'.format(suffix))\n",
    "    with open(source_file, \"rb\") as image_file:\n",
    "        encoded_python = base64.b64encode(image_file.read()).decode('ascii')\n",
    "    ext = os.path.splitext(source_file)[-1].lower()\n",
    "    if ext not in ['.ipynb','.py']: raise Exception(\"Source file is {} must be .py or .ipynb\".format(ext))\n",
    "    payload = []\n",
    "    for item in data:\n",
    "        if type(item) is PIL.Image.Image:\n",
    "            buffered = BytesIO()\n",
    "            item.save(buffered, format=\"PNG\")\n",
    "            payload.append({'PNG':base64.b64encode(buffered.getvalue()).decode('ascii')})\n",
    "        elif type(item) is pd.core.frame.DataFrame:\n",
    "            payload.append({'CSV':base64.b64encode(item.to_csv(index=False).encode('ascii')).decode(\"ascii\")})\n",
    "    r= requests.post(\"https://api.heatonresearch.com/assignment-submit\",\n",
    "        headers={'x-api-key':key}, json={ 'payload': payload,'assignment': no, 'ext':ext, 'py':encoded_python})\n",
    "    if r.status_code==200:\n",
    "        print(\"Success: {}\".format(r.text))\n",
    "    else: print(\"Failure: {}\".format(r.text))"
   ]
  },
  {
   "cell_type": "code",
   "execution_count": 39,
   "id": "65fe14bd",
   "metadata": {},
   "outputs": [],
   "source": [
    "import os\n",
    "import pandas as pd\n",
    "from scipy.stats import zscore\n",
    "import pandas as pd\n",
    "import io\n",
    "import requests\n",
    "import numpy as np\n",
    "from sklearn import metrics\n",
    "\n",
    "key = \"QGOMi9jY948rtuqknQ9Wb20gQ7BaRlg369Q6fiSX\" \n",
    "file='E:\\\\WUSTL\\\\2024 SPRING\\\\INFO.558 Applications of Deep Neural Networks\\\\jheaton\\\\projects\\\\t81_558_deep_learning\\\\assignments\\\\assignment_ZihanLuo_class6.ipynb'\n"
   ]
  },
  {
   "cell_type": "code",
   "execution_count": null,
   "id": "53a0af26",
   "metadata": {},
   "outputs": [],
   "source": [
    "!pip install langchain langchain_openai"
   ]
  },
  {
   "cell_type": "code",
   "execution_count": 5,
   "id": "bbad3f4f",
   "metadata": {},
   "outputs": [],
   "source": [
    "from langchain_openai import OpenAI, ChatOpenAI\n",
    "\n",
    "# Your OpenAI API key\n",
    "# If you are in my class at WUSTL, get this key from the Assignment 6 description in Canvas.\n",
    "\n",
    "OPENAI_KEY = '' #have removed this sensitive information before committing files to a public repository on GitHub. \n",
    "\n",
    "# This is the model you will generally use for this class\n",
    "LLM_MODEL = 'gpt-3.5-turbo-instruct'\n",
    "\n",
    "# Initialize the OpenAI LLM (Language Learning Model) with your API key\n",
    "llm = OpenAI(openai_api_key=OPENAI_KEY, model=LLM_MODEL, temperature=0)\n",
    "\n"
   ]
  },
  {
   "cell_type": "code",
   "execution_count": 21,
   "id": "8aae79f3",
   "metadata": {},
   "outputs": [],
   "source": [
    "df_sentences = pd.read_csv('sentences.csv')"
   ]
  },
  {
   "cell_type": "code",
   "execution_count": 44,
   "id": "69f3350f",
   "metadata": {},
   "outputs": [],
   "source": [
    "results = []"
   ]
  },
  {
   "cell_type": "code",
   "execution_count": 17,
   "id": "5e9b53be",
   "metadata": {},
   "outputs": [],
   "source": [
    "from langchain.prompts import ChatPromptTemplate\n"
   ]
  },
  {
   "cell_type": "code",
   "execution_count": 26,
   "id": "d43c8eeb",
   "metadata": {},
   "outputs": [],
   "source": [
    "PROMPT = \"\"\"\n",
    "Extract the name of the person from the provided sentence.\n",
    "\n",
    "text: {text}\"\"\"\n",
    "\n",
    "prompt_template = ChatPromptTemplate.from_template(PROMPT)\n",
    "\n",
    "chain = prompt_template | llm"
   ]
  },
  {
   "cell_type": "code",
   "execution_count": 30,
   "id": "67a8679f",
   "metadata": {},
   "outputs": [
    {
     "data": {
      "text/plain": [
       "['Sarah found an old photograph in the attic.',\n",
       " 'By the window, Jake noticed a sparkling diamond necklace.',\n",
       " 'The antique clock was expertly fixed by Robert.',\n",
       " 'At the beach, Maria stumbled upon a washed-up bottle.',\n",
       " 'Ethan kept his diary locked at all times.',\n",
       " 'Hidden under the bed, Emily found a dusty guitar.',\n",
       " 'The vintage car was driven to the show by William.',\n",
       " 'Between the pages of her book, Lily discovered a pressed flower.',\n",
       " 'In his pocket, Tom always carried a silver coin.',\n",
       " \"Jennifer's favorite painting was one of a serene lakeside.\",\n",
       " 'Up on the rooftop, Kevin set up a telescope.',\n",
       " 'Hannah loved the porcelain doll she got for her birthday.',\n",
       " 'Behind the couch, Brian discovered a lost remote control.',\n",
       " 'At the flea market, Claire bought a ceramic vase.',\n",
       " \"Derek's leather jacket was admired by everyone at the party.\",\n",
       " 'On her desk, Megan kept a crystal paperweight.',\n",
       " \"Chris often played his grandfather's vintage violin.\",\n",
       " 'Beneath the autumn leaves, Alicia found a rusted key.',\n",
       " 'The blue bicycle was ridden every day by Ben.',\n",
       " 'On chilly evenings, Natalie would light up her stone fireplace.',\n",
       " 'The mysterious letter was opened cautiously by Alex.',\n",
       " 'In her garden, Rachel has a stone statue of an angel.',\n",
       " \"Tim's collection included a rare stamp from the 1800s.\",\n",
       " 'Above her bed, Isabella hung a dreamcatcher.',\n",
       " 'Lucas wrote all his ideas in a spiral-bound notebook.',\n",
       " 'Hidden in the forest, Sophie found a forgotten well.',\n",
       " 'At his workstation, Daniel had a dual-screen setup.',\n",
       " 'The silk scarf was a gift to Olivia from her grandmother.',\n",
       " 'On his wrist, Sam wore a leather-bound watch.',\n",
       " 'On top of the mountain, Laura discovered an old compass.',\n",
       " 'In the backyard, Mike built a wooden treehouse.',\n",
       " \"Amber's most cherished possession was a pearl necklace.\",\n",
       " 'On the shelf, Jason placed his collection of model airplanes.',\n",
       " 'The secret compartment in the desk was found by Zoe.',\n",
       " 'Under the bridge, Dylan sketched a graffiti mural.',\n",
       " 'In the living room, Emma set up a glass coffee table.',\n",
       " \"Neil's favorite toy as a child was a tin soldier.\",\n",
       " 'Grace kept her letters in a cedar box.',\n",
       " 'By the riverbank, Matt spotted a washed-up old lantern.',\n",
       " 'In the studio, Ava paints on a large canvas.',\n",
       " 'The old chest in the attic was discovered by Justin.',\n",
       " 'On her journey, Kim always took a brass compass.',\n",
       " 'At the foot of his bed, Owen kept a wooden trunk.',\n",
       " 'The mysterious map was studied by Rebecca.',\n",
       " 'Among his souvenirs, Adam had a carved wooden mask.',\n",
       " \"The marble statue in the gallery caught Tara's eye.\",\n",
       " 'At the park, Lila flew her colorful kite.',\n",
       " 'A brass key was always carried by Sean for his locker.',\n",
       " 'In the courtyard, Lisa set up a marble fountain.',\n",
       " 'The old journal was always referred to by Peter for his research.',\n",
       " 'Among the old books, Brandon found a hidden diary.',\n",
       " 'By the seaside, Chloe collected smooth pebbles.',\n",
       " 'In his attic, Ryan stumbled upon an old typewriter.',\n",
       " 'Vanessa loved the ornate mirror she inherited from her grandmother.',\n",
       " 'The ancient coin was closely examined by Colin.',\n",
       " 'At the corner of her room, Julie kept a tall floor lamp.',\n",
       " \"Mark's most prized possession was his vintage camera.\",\n",
       " 'During her vacation, Naomi bought a bamboo flute.',\n",
       " 'At the base of the tree, Roger discovered a metal box.',\n",
       " 'On cold days, Ella wore a knitted scarf.',\n",
       " 'In the garden shed, Leon found a broken sundial.',\n",
       " 'Tina displayed a collection of ceramic figurines in her showcase.',\n",
       " 'At the edge of the pond, Andy set up a wooden bench.',\n",
       " \"The silver locket was a keepsake of Nicole's childhood.\",\n",
       " 'Neil often tinkered with the old radio in the garage.',\n",
       " 'Hanging in her wardrobe, Lucy had a sequined dress.',\n",
       " 'Martin restored a classic motorcycle from the 1970s.',\n",
       " 'Amidst her trinkets, Bella found a bronze medallion.',\n",
       " 'On the balcony, Henry grew plants in a terracotta pot.',\n",
       " \"In her grandmother's attic, Ruby found a feathered hat.\",\n",
       " \"Eric displayed his grandfather's war medals proudly.\",\n",
       " 'The glass bead necklace was always worn by Anna on special occasions.',\n",
       " 'At the back of the drawer, Gary found an engraved pocket watch.',\n",
       " 'In her suitcase, Marilyn packed a silk shawl.',\n",
       " 'Ivan took a brass lantern on every camping trip.',\n",
       " 'Rachel cherished the hand-painted porcelain plate from her mother.',\n",
       " 'The vintage train set was carefully assembled by Kyle.',\n",
       " 'Beside the fireplace, Fiona kept a stack of old newspapers.',\n",
       " \"Jesse's collection boasted an antique pocket compass.\",\n",
       " 'In her music box, Elaine had a spinning ballerina.',\n",
       " \"Above his fireplace, Oscar hung a stag's head.\",\n",
       " 'The leather-bound photo album was thumbed through by Jane.',\n",
       " 'At the thrift store, Karl picked up a ceramic teapot.',\n",
       " 'Beside her reading chair, Sylvia placed a metal floor lamp.',\n",
       " 'The carved wooden door was admired by Jeremy.',\n",
       " 'During her travels, Dana always bought a ceramic mug.',\n",
       " 'Hanging on the wall, Todd saw a tapestry of a medieval castle.',\n",
       " 'Monica kept her childhood memories in a tin box.',\n",
       " 'Beside the pond, Brent set up a stone birdbath.',\n",
       " 'An old sewing machine was discovered by Kelly in the basement.',\n",
       " 'From the roof, Ian hung copper wind chimes.',\n",
       " 'On the kitchen counter, Melissa kept a fruit basket.',\n",
       " 'In his workshop, Greg carved figures from blocks of wood.',\n",
       " 'The stained-glass window caught the attention of Jasmine.',\n",
       " 'Steve always wore a titanium ring on his right hand.',\n",
       " 'The steel trinket box on the dresser belonged to Penny.',\n",
       " 'On her wrist, Clara wore a jade bangle.',\n",
       " 'At the edge of his desk, Wade kept a glass paperweight.',\n",
       " 'Above her bed, Nora had a framed embroidery piece.',\n",
       " 'At the carnival, Troy won a stuffed bear.']"
      ]
     },
     "execution_count": 30,
     "metadata": {},
     "output_type": "execute_result"
    }
   ],
   "source": [
    "sentence_list = df_sentences['sentence'].tolist()\n",
    "sentence_list"
   ]
  },
  {
   "cell_type": "code",
   "execution_count": 45,
   "id": "2222e527",
   "metadata": {},
   "outputs": [],
   "source": [
    "for sentence_id, sentence in enumerate(sentence_list, start=1):\n",
    "    response = chain.invoke({'text': sentence})\n",
    "\n",
    "    name = response.strip()\n",
    "    if name.startswith(\"Name:\"):\n",
    "        name = name.split(\":\")[1].strip()\n",
    "\n",
    "    results.append({'id': sentence_id, 'name': name})\n"
   ]
  },
  {
   "cell_type": "code",
   "execution_count": 46,
   "id": "ff4cea36",
   "metadata": {},
   "outputs": [],
   "source": [
    "df_submit = pd.DataFrame(results)"
   ]
  },
  {
   "cell_type": "code",
   "execution_count": 47,
   "id": "01f59ec0",
   "metadata": {
    "scrolled": false
   },
   "outputs": [
    {
     "data": {
      "text/html": [
       "<div>\n",
       "<style scoped>\n",
       "    .dataframe tbody tr th:only-of-type {\n",
       "        vertical-align: middle;\n",
       "    }\n",
       "\n",
       "    .dataframe tbody tr th {\n",
       "        vertical-align: top;\n",
       "    }\n",
       "\n",
       "    .dataframe thead th {\n",
       "        text-align: right;\n",
       "    }\n",
       "</style>\n",
       "<table border=\"1\" class=\"dataframe\">\n",
       "  <thead>\n",
       "    <tr style=\"text-align: right;\">\n",
       "      <th></th>\n",
       "      <th>id</th>\n",
       "      <th>name</th>\n",
       "    </tr>\n",
       "  </thead>\n",
       "  <tbody>\n",
       "    <tr>\n",
       "      <th>0</th>\n",
       "      <td>1</td>\n",
       "      <td>Sarah</td>\n",
       "    </tr>\n",
       "    <tr>\n",
       "      <th>1</th>\n",
       "      <td>2</td>\n",
       "      <td>Jake</td>\n",
       "    </tr>\n",
       "    <tr>\n",
       "      <th>2</th>\n",
       "      <td>3</td>\n",
       "      <td>Robert</td>\n",
       "    </tr>\n",
       "    <tr>\n",
       "      <th>3</th>\n",
       "      <td>4</td>\n",
       "      <td>Maria</td>\n",
       "    </tr>\n",
       "    <tr>\n",
       "      <th>4</th>\n",
       "      <td>5</td>\n",
       "      <td>Ethan</td>\n",
       "    </tr>\n",
       "  </tbody>\n",
       "</table>\n",
       "</div>"
      ],
      "text/plain": [
       "   id    name\n",
       "0   1   Sarah\n",
       "1   2    Jake\n",
       "2   3  Robert\n",
       "3   4   Maria\n",
       "4   5   Ethan"
      ]
     },
     "execution_count": 47,
     "metadata": {},
     "output_type": "execute_result"
    }
   ],
   "source": [
    "df_submit.head()"
   ]
  },
  {
   "cell_type": "code",
   "execution_count": 48,
   "id": "41e89d59",
   "metadata": {},
   "outputs": [
    {
     "name": "stdout",
     "output_type": "stream",
     "text": [
      "Success: Submitted Assignment 6 for luozihan:\n",
      "You have submitted this assignment 2 times. (this is fine)\n",
      "Error: For a row of column 'name', you have 'Owen', the solution is 'Oscar', note: if there are several differences, these values many not align exactly.\n",
      "Error: For a row of column 'name', you have 'Penny', the solution is 'Owen', note: if there are several differences, these values many not align exactly.\n",
      "Error: For a row of column 'name', you have 'Peter', the solution is 'Penny', note: if there are several differences, these values many not align exactly.\n",
      "Error: For a row of column 'name', you have 'Rachel', the solution is 'Peter', note: if there are several differences, these values many not align exactly.\n",
      "Error: For a row of column 'name', you have 'Rebecca', the solution is 'Rachel', note: if there are several differences, these values many not align exactly.\n",
      "Error: For a row of column 'name', you have 'Robert', the solution is 'Rebecca', note: if there are several differences, these values many not align exactly.\n",
      "Error: For a row of column 'name', you have 'Roger', the solution is 'Robert', note: if there are several differences, these values many not align exactly.\n",
      "Error: For a row of column 'name', you have 'Ryan', the solution is 'Roger', note: if there are several differences, these values many not align exactly.\n",
      "Error: For a row of column 'name', you have 'Sam', the solution is 'Ruby', note: if there are several differences, these values many not align exactly.\n",
      "Error: For a row of column 'name', you have 'Sarah', the solution is 'Ryan', note: if there are several differences, these values many not align exactly.\n",
      "Error: For a row of column 'name', you have 'Sean', the solution is 'Sam', note: if there are several differences, these values many not align exactly.\n",
      "Error: For a row of column 'name', you have 'Sophie', the solution is 'Sarah', note: if there are several differences, these values many not align exactly.\n",
      "Error: For a row of column 'name', you have 'Steve', the solution is 'Sean', note: if there are several differences, these values many not align exactly.\n",
      "Error: For a row of column 'name', you have 'Sylvia', the solution is 'Sophie', note: if there are several differences, these values many not align exactly.\n",
      "Error: For a row of column 'name', you have 'Tara', the solution is 'Steve', note: if there are several differences, these values many not align exactly.\n",
      "Error: For a row of column 'name', you have 'There is no name mentioned in the provided sentence.', the solution is 'Sylvia', note: if there are several differences, these values many not align exactly.\n",
      "Error: For a row of column 'name', you have 'There is no name mentioned in the provided sentence.', the solution is 'Tara', note: if there are several differences, these values many not align exactly.\n",
      "Errors were identified, please fix those and resubmit to get full credit for this assignment.\n"
     ]
    }
   ],
   "source": [
    "submit(source_file=file,data=[df_submit],key=key,no=6)\n"
   ]
  }
 ],
 "metadata": {
  "kernelspec": {
   "display_name": "Python 3 (ipykernel)",
   "language": "python",
   "name": "python3"
  },
  "language_info": {
   "codemirror_mode": {
    "name": "ipython",
    "version": 3
   },
   "file_extension": ".py",
   "mimetype": "text/x-python",
   "name": "python",
   "nbconvert_exporter": "python",
   "pygments_lexer": "ipython3",
   "version": "3.11.4"
  }
 },
 "nbformat": 4,
 "nbformat_minor": 5
}
